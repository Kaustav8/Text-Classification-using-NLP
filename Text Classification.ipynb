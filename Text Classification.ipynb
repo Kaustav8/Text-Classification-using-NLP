{
 "cells": [
  {
   "cell_type": "markdown",
   "id": "e375a20e",
   "metadata": {},
   "source": [
    "## Text Classification using NLP"
   ]
  },
  {
   "cell_type": "markdown",
   "id": "55fde1ba",
   "metadata": {},
   "source": [
    "Here in this project, I will try to train a machine learning model capable of predicting whether a given movie review is positive or negative. This is an example of 'sentiment analysis' where people's sentiments towards a particular entity are classified into different categories.\n",
    "\n",
    "The dataset that I am going to use for this work consists of a total of 2000 documents. Half of the documents contain positive reviews regarding a movie while the remaining half contains negative reviews."
   ]
  },
  {
   "cell_type": "markdown",
   "id": "ae7b8f11",
   "metadata": {},
   "source": [
    "### Importing Libraries"
   ]
  },
  {
   "cell_type": "code",
   "execution_count": 86,
   "id": "febfb8d4",
   "metadata": {},
   "outputs": [
    {
     "name": "stderr",
     "output_type": "stream",
     "text": [
      "[nltk_data] Downloading package stopwords to\n",
      "[nltk_data]     C:\\Users\\T.K.DAS\\AppData\\Roaming\\nltk_data...\n",
      "[nltk_data]   Package stopwords is already up-to-date!\n"
     ]
    }
   ],
   "source": [
    "import numpy as np\n",
    "import re\n",
    "import nltk\n",
    "from sklearn.datasets import load_files\n",
    "nltk.download('stopwords')\n",
    "import pickle\n",
    "from nltk.corpus import stopwords"
   ]
  },
  {
   "cell_type": "markdown",
   "id": "4c71912d",
   "metadata": {},
   "source": [
    "### Importing the Dataset"
   ]
  },
  {
   "cell_type": "code",
   "execution_count": 87,
   "id": "c67d4901",
   "metadata": {},
   "outputs": [],
   "source": [
    "movie_data = load_files(r'C:\\Text Classification data\\txt_sentoken')\n",
    "X, y = movie_data.data, movie_data.target"
   ]
  },
  {
   "cell_type": "markdown",
   "id": "1b4554d7",
   "metadata": {},
   "source": [
    "The load_files will treat each folder inside the \"txt_sentoken\" folder as one category and all the documents inside that folder will be assigned its corresponding category. The load_files function loads the data from both \"neg\" and \"pos\" folders into the X variable, while the target categories are stored in y. Here X is a list of 2000 string type elements where each element corresponds to single user review. Similarly, y is a numpy array of size 2000. "
   ]
  },
  {
   "cell_type": "markdown",
   "id": "e2ed423e",
   "metadata": {},
   "source": [
    "### Text Preprocessing"
   ]
  },
  {
   "cell_type": "code",
   "execution_count": 88,
   "id": "63e9f1fb",
   "metadata": {},
   "outputs": [
    {
     "name": "stderr",
     "output_type": "stream",
     "text": [
      "[nltk_data] Downloading package wordnet to\n",
      "[nltk_data]     C:\\Users\\T.K.DAS\\AppData\\Roaming\\nltk_data...\n",
      "[nltk_data]   Package wordnet is already up-to-date!\n"
     ]
    },
    {
     "data": {
      "text/plain": [
       "True"
      ]
     },
     "execution_count": 88,
     "metadata": {},
     "output_type": "execute_result"
    }
   ],
   "source": [
    "import nltk\n",
    "nltk.download('wordnet')"
   ]
  },
  {
   "cell_type": "code",
   "execution_count": 89,
   "id": "909b26a5",
   "metadata": {},
   "outputs": [],
   "source": [
    "documents = []\n",
    "\n",
    "from nltk.stem import WordNetLemmatizer\n",
    "\n",
    "stemmer = WordNetLemmatizer()\n",
    "\n",
    "for sen in range(0, len(X)):\n",
    "    # Remove all the special characters\n",
    "    document = re.sub(r'\\W', ' ', str(X[sen]))\n",
    "    \n",
    "    # remove all single characters\n",
    "    document = re.sub(r'\\s+[a-zA-Z]\\s+', ' ', document)\n",
    "    \n",
    "    # Remove single characters from the start\n",
    "    document = re.sub(r'\\^[a-zA-Z]\\s+', ' ', document) \n",
    "    \n",
    "    # Substituting multiple spaces with single space\n",
    "    document = re.sub(r'\\s+', ' ', document, flags=re.I)\n",
    "    \n",
    "    # Removing prefixed 'b'\n",
    "    document = re.sub(r'^b\\s+', '', document)\n",
    "    \n",
    "    # Converting to Lowercase\n",
    "    document = document.lower()\n",
    "    \n",
    "    # Lemmatization\n",
    "    document = document.split()\n",
    "\n",
    "    document = [stemmer.lemmatize(word) for word in document]\n",
    "    document = ' '.join(document)\n",
    "    \n",
    "    documents.append(document)"
   ]
  },
  {
   "cell_type": "markdown",
   "id": "64bd9ad7",
   "metadata": {},
   "source": [
    "Here I have used Regex Expressions from Python re library to perform different preprocessing tasks. All non-word characters such as special characters, numbers, etc. have been removed initially.\n",
    "\n",
    "Next, I have removed all the single characters. To remove such single characters, \\s+[a-zA-Z]\\s+ regular expression  has been  used which substitutes all the single characters having spaces on either side, with a single space.\n",
    "\n",
    "Next, \\^[a-zA-Z]\\s+ regular expression has been used to replace a single character from the beginning of the document, with a single space. Replacing single characters with a single space may result in multiple spaces, which is not ideal. So I have used the regular expression \\s+ to replace one or more spaces with a single space. \n",
    "\n",
    "In lemmatization, the word has been reduced into dictionary root form. For instance \"cats\" is converted into \"cat\""
   ]
  },
  {
   "cell_type": "markdown",
   "id": "5eacc798",
   "metadata": {},
   "source": [
    "### Converting Text to Numbers"
   ]
  },
  {
   "cell_type": "code",
   "execution_count": 90,
   "id": "666706e3",
   "metadata": {},
   "outputs": [],
   "source": [
    "from sklearn.feature_extraction.text import CountVectorizer\n",
    "vectorizer = CountVectorizer(max_features=1500, min_df=5, max_df=0.7, stop_words=stopwords.words('english'))\n",
    "X = vectorizer.fit_transform(documents).toarray()"
   ]
  },
  {
   "cell_type": "markdown",
   "id": "b0304f70",
   "metadata": {},
   "source": [
    "Here I have used the bag of words model to convert text documents into corresponding numerical features."
   ]
  },
  {
   "cell_type": "markdown",
   "id": "ae2c537a",
   "metadata": {},
   "source": [
    "### Finding TFIDF"
   ]
  },
  {
   "cell_type": "markdown",
   "id": "bacd2d0f",
   "metadata": {},
   "source": [
    "The bag of words approach works fine for converting text to numbers. However, it has one drawback. It assigns a score to a word based on its occurrence in a particular document. It doesn't take into account the fact that the word might also be having a high frequency of occurrence in other documents as well. TFIDF resolves this problem."
   ]
  },
  {
   "cell_type": "code",
   "execution_count": 91,
   "id": "940919e4",
   "metadata": {},
   "outputs": [],
   "source": [
    "from sklearn.feature_extraction.text import TfidfVectorizer\n",
    "tfidfconverter = TfidfVectorizer(max_features=1500, min_df=5, max_df=0.7, stop_words=stopwords.words('english'))\n",
    "X = tfidfconverter.fit_transform(documents).toarray()"
   ]
  },
  {
   "cell_type": "markdown",
   "id": "3cb057c0",
   "metadata": {},
   "source": [
    "### Train - Test Split"
   ]
  },
  {
   "cell_type": "code",
   "execution_count": 92,
   "id": "53188461",
   "metadata": {},
   "outputs": [],
   "source": [
    "from sklearn.model_selection import train_test_split\n",
    "X_train, X_test, y_train, y_test = train_test_split(X, y, test_size=0.2, random_state=0) # 20% test set and 80% training set"
   ]
  },
  {
   "cell_type": "markdown",
   "id": "a972f188",
   "metadata": {},
   "source": [
    "### Training Text Classification Model and Predicting Sentiment"
   ]
  },
  {
   "cell_type": "code",
   "execution_count": 93,
   "id": "1895cfc3",
   "metadata": {},
   "outputs": [
    {
     "data": {
      "text/plain": [
       "RandomForestClassifier(n_estimators=1000, random_state=0)"
      ]
     },
     "execution_count": 93,
     "metadata": {},
     "output_type": "execute_result"
    }
   ],
   "source": [
    "from sklearn.ensemble import RandomForestClassifier\n",
    "classifier = RandomForestClassifier(n_estimators=1000, random_state=0)\n",
    "classifier.fit(X_train, y_train) "
   ]
  },
  {
   "cell_type": "code",
   "execution_count": 94,
   "id": "cc94995f",
   "metadata": {},
   "outputs": [],
   "source": [
    "y_pred = classifier.predict(X_test)"
   ]
  },
  {
   "cell_type": "markdown",
   "id": "dcf425f0",
   "metadata": {},
   "source": [
    "### Evaluating the Model"
   ]
  },
  {
   "cell_type": "markdown",
   "id": "eaca12c9",
   "metadata": {},
   "source": [
    "To evaluate the performance of a classification model that I have just trained, I have used metrics such as the confusion matrix, F1 measure, and the accuracy."
   ]
  },
  {
   "cell_type": "code",
   "execution_count": 95,
   "id": "40d711cb",
   "metadata": {},
   "outputs": [
    {
     "name": "stdout",
     "output_type": "stream",
     "text": [
      "[[180  28]\n",
      " [ 30 162]]\n",
      "              precision    recall  f1-score   support\n",
      "\n",
      "           0       0.86      0.87      0.86       208\n",
      "           1       0.85      0.84      0.85       192\n",
      "\n",
      "    accuracy                           0.85       400\n",
      "   macro avg       0.85      0.85      0.85       400\n",
      "weighted avg       0.85      0.85      0.85       400\n",
      "\n",
      "0.855\n"
     ]
    }
   ],
   "source": [
    "from sklearn.metrics import classification_report, confusion_matrix, accuracy_score\n",
    "\n",
    "print(confusion_matrix(y_test,y_pred))\n",
    "print(classification_report(y_test,y_pred))\n",
    "print(accuracy_score(y_test, y_pred))"
   ]
  },
  {
   "cell_type": "markdown",
   "id": "a357c685",
   "metadata": {},
   "source": [
    "#### From the output, it can be seen that the  model achieved an accuracy of 85.5%, which is quite good given the fact that I have randomly chosen all the parameters for CountVectorizer as well as for our random forest algorithm."
   ]
  }
 ],
 "metadata": {
  "kernelspec": {
   "display_name": "Python 3 (ipykernel)",
   "language": "python",
   "name": "python3"
  },
  "language_info": {
   "codemirror_mode": {
    "name": "ipython",
    "version": 3
   },
   "file_extension": ".py",
   "mimetype": "text/x-python",
   "name": "python",
   "nbconvert_exporter": "python",
   "pygments_lexer": "ipython3",
   "version": "3.9.7"
  }
 },
 "nbformat": 4,
 "nbformat_minor": 5
}
